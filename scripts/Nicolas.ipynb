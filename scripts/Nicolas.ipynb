{
 "cells": [
  {
   "cell_type": "code",
   "execution_count": 10,
   "metadata": {
    "scrolled": true
   },
   "outputs": [
    {
     "name": "stdout",
     "output_type": "stream",
     "text": [
      "Counting all product-id: 537577\n",
      "Counting all unique product-id: 3623\n"
     ]
    }
   ],
   "source": [
    "# Notes of Nicolas\n",
    "\n",
    "import pandas\n",
    "\n",
    "## From .csv > data frame\n",
    "\n",
    "blackFridayDataFrame = pandas.read_csv('../data/black-friday/BlackFriday.csv')\n",
    "\n",
    "blackFridayDataFrame\n",
    "\n",
    "## Extract all 'Product_ID' from the data frame\n",
    "collectionProductId = blackFridayDataFrame['Product_ID']\n",
    "\n",
    "## Extract\n",
    "collectionDistinctProductId = collectionProductId.drop_duplicates()\n",
    "\n",
    "print('Counting all product-id: '+str(collectionProductId.count()))\n",
    "print('Counting all unique product-id: '+str(collectionDistinctProductId.count()))"
   ]
  },
  {
   "cell_type": "code",
   "execution_count": null,
   "metadata": {},
   "outputs": [],
   "source": []
  }
 ],
 "metadata": {
  "kernelspec": {
   "display_name": "Python 3",
   "language": "python",
   "name": "python3"
  },
  "language_info": {
   "codemirror_mode": {
    "name": "ipython",
    "version": 3
   },
   "file_extension": ".py",
   "mimetype": "text/x-python",
   "name": "python",
   "nbconvert_exporter": "python",
   "pygments_lexer": "ipython3",
   "version": "3.7.0"
  }
 },
 "nbformat": 4,
 "nbformat_minor": 2
}
